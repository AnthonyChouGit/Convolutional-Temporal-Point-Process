{
 "cells": [
  {
   "cell_type": "code",
   "execution_count": 1,
   "metadata": {},
   "outputs": [],
   "source": [
    "from tester import Tester"
   ]
  },
  {
   "cell_type": "code",
   "execution_count": 2,
   "metadata": {},
   "outputs": [],
   "source": [
    "data_dir = '/data/zwt-datasets/data_so'\n",
    "device = 'cuda:0'\n",
    "batch_size = 32\n",
    "eval_batch_size = 128\n",
    "pred_batch_size = 1\n",
    "model_name = 'so'\n",
    "max_len = 256"
   ]
  },
  {
   "cell_type": "code",
   "execution_count": 3,
   "metadata": {},
   "outputs": [],
   "source": [
    "import math\n",
    "config = {\n",
    "    'embed_dim': 64,\n",
    "    'hidden_dim': 64,\n",
    "    'model': 'conv-tpp',\n",
    "    'num_channel':3,\n",
    "    'horizon': [[16, 32, math.inf], [16, 32, math.inf], [16, 32, math.inf]],\n",
    "    'num_component': 64\n",
    "}"
   ]
  },
  {
   "cell_type": "code",
   "execution_count": 4,
   "metadata": {},
   "outputs": [],
   "source": [
    "config = {\n",
    "    'embed_dim': 64,\n",
    "    'hidden_dim': 64,\n",
    "    'model': 'nhp'\n",
    "}"
   ]
  },
  {
   "cell_type": "code",
   "execution_count": 3,
   "metadata": {},
   "outputs": [],
   "source": [
    "config = {\n",
    "    'model': 'rmtpp',\n",
    "    'embed_dim': 64,\n",
    "    'hidden_dim': 64,\n",
    "    'mlp_dim': 128\n",
    "}"
   ]
  },
  {
   "cell_type": "code",
   "execution_count": 6,
   "metadata": {},
   "outputs": [],
   "source": [
    "config = {\n",
    "    'model': 'hp',\n",
    "    'max_t': 10,\n",
    "    'n_samples_pred': 100\n",
    "}"
   ]
  },
  {
   "cell_type": "code",
   "execution_count": 4,
   "metadata": {},
   "outputs": [],
   "source": [
    "tester = Tester(config, data_dir, device, model_name, max_len, max_epoch=50, batch_size=batch_size, eval_batch_size=eval_batch_size,\n",
    "        pred_batch_size=pred_batch_size)"
   ]
  },
  {
   "cell_type": "code",
   "execution_count": 5,
   "metadata": {},
   "outputs": [
    {
     "name": "stderr",
     "output_type": "stream",
     "text": [
      " 60%|██████    | 30/50 [04:26<02:56,  8.81s/it]"
     ]
    },
    {
     "name": "stdout",
     "output_type": "stream",
     "text": [
      "epoch 30 finished, best_loss=2.3431639671325684.\n"
     ]
    },
    {
     "name": "stderr",
     "output_type": "stream",
     "text": [
      "100%|██████████| 50/50 [07:21<00:00,  8.84s/it]\n"
     ]
    }
   ],
   "source": [
    "tester.train()"
   ]
  },
  {
   "cell_type": "code",
   "execution_count": 6,
   "metadata": {},
   "outputs": [
    {
     "name": "stdout",
     "output_type": "stream",
     "text": [
      "All done. Test_loss=2.329348087310791.\n"
     ]
    }
   ],
   "source": [
    "tester.testNll()"
   ]
  },
  {
   "cell_type": "code",
   "execution_count": 7,
   "metadata": {},
   "outputs": [
    {
     "name": "stdout",
     "output_type": "stream",
     "text": [
      "All done. ACC=0.4586457406701402, RMSE=1.1734252993915197.\n"
     ]
    }
   ],
   "source": [
    "tester.testPred()"
   ]
  }
 ],
 "metadata": {
  "interpreter": {
   "hash": "a7dacfae7d409f4992163ae9ee555dbebdc7eff1eadef8d1d2e5e7eb18ac0745"
  },
  "kernelspec": {
   "display_name": "Python 3.8.5 ('zwt-env')",
   "language": "python",
   "name": "python3"
  },
  "language_info": {
   "codemirror_mode": {
    "name": "ipython",
    "version": 3
   },
   "file_extension": ".py",
   "mimetype": "text/x-python",
   "name": "python",
   "nbconvert_exporter": "python",
   "pygments_lexer": "ipython3",
   "version": "3.8.5"
  },
  "orig_nbformat": 4
 },
 "nbformat": 4,
 "nbformat_minor": 2
}
