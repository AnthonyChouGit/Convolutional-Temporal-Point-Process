{
 "cells": [
  {
   "cell_type": "code",
   "execution_count": null,
   "metadata": {},
   "outputs": [],
   "source": [
    "from tester import Tester"
   ]
  },
  {
   "cell_type": "code",
   "execution_count": null,
   "metadata": {},
   "outputs": [],
   "source": [
    "data_dir = '/data/zwt-datasets/data_lastfm'\n",
    "device = 'cuda:0'\n",
    "batch_size = 32\n",
    "eval_batch_size = 128\n",
    "\n",
    "model_name = 'conv-tpp-lastfm'\n",
    "max_len = 256"
   ]
  },
  {
   "cell_type": "code",
   "execution_count": null,
   "metadata": {},
   "outputs": [],
   "source": [
    "config = {\n",
    "    'embed_dim': 64,\n",
    "    'hidden_dim': 64,\n",
    "    'model': 'conv-tpp',\n",
    "    'num_channel':1,\n",
    "    'horizon': [0.76],\n",
    "    'num_component': 64,\n",
    "    'omega': 10\n",
    "}"
   ]
  },
  {
   "cell_type": "code",
   "execution_count": null,
   "metadata": {},
   "outputs": [],
   "source": [
    "tester = Tester(config, data_dir, device, model_name, max_len, max_epoch=50, batch_size=batch_size, eval_batch_size=eval_batch_size)"
   ]
  },
  {
   "cell_type": "code",
   "execution_count": null,
   "metadata": {},
   "outputs": [],
   "source": [
    "tester.train()"
   ]
  },
  {
   "cell_type": "code",
   "execution_count": null,
   "metadata": {},
   "outputs": [],
   "source": [
    "tester.testNll()"
   ]
  }
 ],
 "metadata": {
  "kernelspec": {
   "display_name": "Python 3.10.4 ('zwt-env')",
   "language": "python",
   "name": "python3"
  },
  "language_info": {
   "codemirror_mode": {
    "name": "ipython",
    "version": 3
   },
   "file_extension": ".py",
   "mimetype": "text/x-python",
   "name": "python",
   "nbconvert_exporter": "python",
   "pygments_lexer": "ipython3",
   "version": "3.10.4"
  },
  "orig_nbformat": 4,
  "vscode": {
   "interpreter": {
    "hash": "a7dacfae7d409f4992163ae9ee555dbebdc7eff1eadef8d1d2e5e7eb18ac0745"
   }
  }
 },
 "nbformat": 4,
 "nbformat_minor": 2
}
