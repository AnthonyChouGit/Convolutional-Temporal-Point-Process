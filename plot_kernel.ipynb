{
 "cells": [
  {
   "cell_type": "code",
   "execution_count": null,
   "metadata": {},
   "outputs": [],
   "source": [
    "from tester import Tester\n",
    "# import math\n",
    "# import numpy as np\n",
    "# import matplotlib.pyplot as plt\n",
    "\n",
    "data_dir = '/data/zwt-datasets/data_retweet'\n",
    "device = 'cpu'\n",
    "batch_size = 32\n",
    "eval_batch_size = 128\n",
    "pred_batch_size = 128\n",
    "max_len = 256\n",
    "config = {\n",
    "        'model': 'conv-tpp',\n",
    "        'embed_dim': 64,\n",
    "        'hidden_dim': 64,\n",
    "        'num_channel':2,\n",
    "        'horizon':[2583*1, 2583*3],\n",
    "        'num_component':64\n",
    "    }\n",
    "tester = Tester(config, data_dir, device, 'conv-retweet-2583*(1,3)', max_len, max_epoch=600, batch_size=batch_size, eval_batch_size=eval_batch_size,\n",
    "                pred_batch_size=pred_batch_size, lr_step=40, init_lr=0.5e-3, display_step=40, patience=600)\n",
    "tester.loadModel()\n",
    "tester.testNll()"
   ]
  }
 ],
 "metadata": {
  "kernelspec": {
   "display_name": "Python 3.7.11 ('zhouwangtao')",
   "language": "python",
   "name": "python3"
  },
  "language_info": {
   "codemirror_mode": {
    "name": "ipython",
    "version": 3
   },
   "file_extension": ".py",
   "mimetype": "text/x-python",
   "name": "python",
   "nbconvert_exporter": "python",
   "pygments_lexer": "ipython3",
   "version": "3.7.11"
  },
  "orig_nbformat": 4,
  "vscode": {
   "interpreter": {
    "hash": "2681a56a2a5b5ef804dcc8a2350faf9497bbdb099c3fc7f658ad8f914ac6e466"
   }
  }
 },
 "nbformat": 4,
 "nbformat_minor": 2
}
