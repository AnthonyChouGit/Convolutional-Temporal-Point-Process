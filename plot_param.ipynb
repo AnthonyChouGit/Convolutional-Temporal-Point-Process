{
 "cells": [
  {
   "cell_type": "code",
   "execution_count": null,
   "metadata": {},
   "outputs": [],
   "source": [
    "import matplotlib.pyplot as plt\n",
    "import numpy as np\n",
    "\n",
    "fig = plt.figure()\n",
    "ax = fig.add_subplot(111, projection='3d')\n",
    "\n",
    "x = np.array([1, 1, 1, 2, 2, 2, 3, 3, 3, 4, 4, 4, 5, 5, 5]) - 0.5\n",
    "y = np.array([1, 2, 3, 1, 2, 3, 1, 2, 3, 1, 2, 3, 1, 2, 3])-0.5\n",
    "z = 4.5\n",
    "\n",
    "dx = dy = 1\n",
    "dz = np.flip(np.array([4.6337, 4.5960, 4.5801,\n",
    "      4.6508, 4.6086, 4.6106,\n",
    "      4.6536, 4.6311, 4.5883,\n",
    "      4.6822, 4.6102, 4.6625,\n",
    "      4.6764, 4.6490, 4.6913])-z)\n",
    "color_list = ['blue', 'orange', 'green', 'grey', 'red']\n",
    "colors = list()\n",
    "for i in range(5):\n",
    "    for j in range(3):\n",
    "        colors.append(color_list[i])\n",
    "ax.bar3d(x, y, z, dx, dy, dz, shade=True, edgecolor='black', color=colors)\n",
    "ax.set_xlabel('horizon')\n",
    "ax.set_ylabel('# of channels')\n",
    "ax.set_zlabel('NLL')\n",
    "ax.set_xticks([1, 2, 3, 4, 5])\n",
    "ax.set_yticks([1, 2, 3])\n",
    "ax.set_xticklabels([10, 5, 3, 2, 1])\n",
    "ax.set_yticklabels([3, 2, 1])\n",
    "ax.set_zlim((4.5, 4.7))\n",
    "\n",
    "plt.savefig('temp2.jpg', bbox_inches='tight')"
   ]
  },
  {
   "cell_type": "code",
   "execution_count": null,
   "metadata": {},
   "outputs": [],
   "source": []
  }
 ],
 "metadata": {
  "kernelspec": {
   "display_name": "Python 3.10.4 ('zwt-env')",
   "language": "python",
   "name": "python3"
  },
  "language_info": {
   "name": "python",
   "version": "3.10.4"
  },
  "orig_nbformat": 4,
  "vscode": {
   "interpreter": {
    "hash": "a7dacfae7d409f4992163ae9ee555dbebdc7eff1eadef8d1d2e5e7eb18ac0745"
   }
  }
 },
 "nbformat": 4,
 "nbformat_minor": 2
}
